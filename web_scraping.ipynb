{
 "cells": [
  {
   "cell_type": "code",
   "execution_count": 20,
   "metadata": {},
   "outputs": [
    {
     "ename": "ModuleNotFoundError",
     "evalue": "No module named 'connect'",
     "output_type": "error",
     "traceback": [
      "\u001b[1;31m---------------------------------------------------------------------------\u001b[0m",
      "\u001b[1;31mModuleNotFoundError\u001b[0m                       Traceback (most recent call last)",
      "\u001b[1;32m<ipython-input-20-8a462d0a4b7b>\u001b[0m in \u001b[0;36m<module>\u001b[1;34m\u001b[0m\n\u001b[0;32m      3\u001b[0m \u001b[1;32mimport\u001b[0m \u001b[0mpandas\u001b[0m\u001b[1;33m\u001b[0m\u001b[1;33m\u001b[0m\u001b[0m\n\u001b[0;32m      4\u001b[0m \u001b[1;32mimport\u001b[0m \u001b[0margparse\u001b[0m\u001b[1;33m\u001b[0m\u001b[1;33m\u001b[0m\u001b[0m\n\u001b[1;32m----> 5\u001b[1;33m \u001b[1;32mimport\u001b[0m \u001b[0mconnect\u001b[0m\u001b[1;33m\u001b[0m\u001b[1;33m\u001b[0m\u001b[0m\n\u001b[0m",
      "\u001b[1;31mModuleNotFoundError\u001b[0m: No module named 'connect'"
     ]
    }
   ],
   "source": [
    "import requests\n",
    "from bs4 import BeautifulSoup\n",
    "import pandas\n",
    "import argparse\n",
    "import connect"
   ]
  },
  {
   "cell_type": "code",
   "execution_count": null,
   "metadata": {},
   "outputs": [],
   "source": [
    "parser = argparse.ArgumentParser()\n",
    "parser.add_argument(\"--page_num_max\", help = \"Enter the number of pages to parse\", type=\"int\")\n",
    "parser.add_argument(\"--dbname\", help=\"Enter the name of db\", type=\"str\")\n",
    "args = parser.parse_args()"
   ]
  },
  {
   "cell_type": "code",
   "execution_count": 12,
   "metadata": {},
   "outputs": [],
   "source": [
    "oyo_url = \"https://www.oyorooms.com/hotels-in-bangalore/?page=\""
   ]
  },
  {
   "cell_type": "code",
   "execution_count": 13,
   "metadata": {},
   "outputs": [],
   "source": [
    "page_num = 3"
   ]
  },
  {
   "cell_type": "code",
   "execution_count": 14,
   "metadata": {},
   "outputs": [],
   "source": [
    "scraped_info_list = []"
   ]
  },
  {
   "cell_type": "code",
   "execution_count": null,
   "metadata": {},
   "outputs": [],
   "source": [
    "connect.connect(args.dbname)"
   ]
  },
  {
   "cell_type": "code",
   "execution_count": 18,
   "metadata": {},
   "outputs": [],
   "source": [
    "for i in range(1, page_num):\n",
    "    url = oyo_url + str(i)\n",
    "    print(\"get Request for: \" + url)\n",
    "    \n",
    "    req = requests.get(url)\n",
    "    content = req.content\n",
    "    soup = BeautifulSoup(content, \"html.parser\")\n",
    "    \n",
    "    all_hotels = soup.find_all(\"div\", {\"class\" : \"hotelCardListing\"})    \n",
    "\n",
    "    for hotel in all_hotels:\n",
    "        hotels = {}\n",
    "        hotels[\"name\"] = hotel.find(\"h3\", {\"class\": \"listingHotelDescription__hotelName\"}).text\n",
    "        hotels[\"address\"] = hotel.find(\"span\", {\"itemprop\": \"streetAddress\"}).text\n",
    "        hotels[\"price\"] = hotel.find(\"span\", {\"class\": \"listingPrice__finalPrice\"}).text  \n",
    "\n",
    "        try:\n",
    "            hotels[\"rating\"] = hotel.find(\"span\", {\"class\": \"hotelRating__ratingSummary\"}).text\n",
    "        except AttributeError:\n",
    "            pass\n",
    "\n",
    "        parent_amenities_element = hotel.find(\"div\", {\"class: amenityWrapper\"})\n",
    "\n",
    "        amenities_list = []\n",
    "        for amenity in parent_amenities_element.find_all(\"div\", {\"class: amenityWrapper__amenity\"}):\n",
    "            amenities_list.append(amenity.find(\"span\", {\"class\":\"d-body-sm\"}).text.strip())\n",
    "\n",
    "        hotels[\"amennties\"] = ', '.join(amenities_list[:-1])\n",
    "        scraped_info_list.append(hotels)\n",
    "        connect.insert_into_table(args.dbname, tuple(hotels.values()))"
   ]
  },
  {
   "cell_type": "code",
   "execution_count": 19,
   "metadata": {},
   "outputs": [],
   "source": [
    "dataFrame = pandas.DataFrame(scraped_info_list)\n",
    "print(\"Creating csv file \")\n",
    "dataFrame.to_csv(\"Oyo.csv\")\n",
    "connect.get_hotel_info(args.dbname)"
   ]
  },
  {
   "cell_type": "code",
   "execution_count": null,
   "metadata": {},
   "outputs": [],
   "source": []
  }
 ],
 "metadata": {
  "kernelspec": {
   "display_name": "Python 3",
   "language": "python",
   "name": "python3"
  },
  "language_info": {
   "codemirror_mode": {
    "name": "ipython",
    "version": 3
   },
   "file_extension": ".py",
   "mimetype": "text/x-python",
   "name": "python",
   "nbconvert_exporter": "python",
   "pygments_lexer": "ipython3",
   "version": "3.8.5"
  }
 },
 "nbformat": 4,
 "nbformat_minor": 4
}
