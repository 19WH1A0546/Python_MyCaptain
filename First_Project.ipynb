{
 "cells": [
  {
   "cell_type": "code",
   "execution_count": 1,
   "metadata": {},
   "outputs": [],
   "source": [
    "import csv"
   ]
  },
  {
   "cell_type": "code",
   "execution_count": 15,
   "metadata": {},
   "outputs": [],
   "source": [
    "def writing_to_csv(student_info):\n",
    "    with open(\"student_info.csv\", 'a', newline=\"\") as csv_file:\n",
    "        write = csv.writer(csv_file)\n",
    "        if csv_file.tell() == 0:\n",
    "            write.writerow([\"Name\", \"Rollno\", \"subject\"])\n",
    "        write.writerow(student_info)"
   ]
  },
  {
   "cell_type": "code",
   "execution_count": 17,
   "metadata": {},
   "outputs": [
    {
     "name": "stdout",
     "output_type": "stream",
     "text": [
      "\n",
      "Always Enter the details in format - Name Age MobileNo E-MailAddress\n",
      "\n",
      "\n",
      "Enter details of Student 1: fidj tftt stusu srtursu\n",
      "\n",
      "Check whether provided information is correct or not: \n",
      "Name: fidj\n",
      "Age: tftt\n",
      "Mobile No: stusu\n",
      "E-Mail: srtursu\n",
      "\n",
      "Enter (yes/no) if provided information is correct: yes\n",
      "\n",
      "Enter (yes/no) if you want to add other student information: yes\n",
      "Enter details of Student 2: uxdu sruu susru srtus\n",
      "\n",
      "Check whether provided information is correct or not: \n",
      "Name: uxdu\n",
      "Age: sruu\n",
      "Mobile No: susru\n",
      "E-Mail: srtus\n",
      "\n",
      "Enter (yes/no) if provided information is correct: yes\n",
      "\n",
      "Enter (yes/no) if you want to add other student information: no\n"
     ]
    }
   ],
   "source": [
    "if __name__ == '__main__':\n",
    "    condition = True\n",
    "    S_no = 1\n",
    "    print(\"\\nAlways Enter the details in format - Name Age MobileNo E-MailAddress\\n\\n\")\n",
    "    while(condition):\n",
    "        student_info = input(\"Enter details of Student {}: \".format(S_no)).split()\n",
    "        \n",
    "        print(\"\\nCheck whether provided information is correct or not: \")\n",
    "        print(\"Name: {}\\nAge: {}\\nMobile No: {}\\nE-Mail: {}\".format(student_info[0], student_info[1], student_info[2], student_info[3]))\n",
    "        \n",
    "        option = input(\"\\nEnter (yes/no) if provided information is correct: \")\n",
    "        if (option == \"yes\"):\n",
    "            writing_to_csv(student_info)\n",
    "            S_no += 1\n",
    "            choice = input(\"\\nEnter (yes/no) if you want to add other student information: \")\n",
    "            if (choice == \"yes\"):\n",
    "                condition = True\n",
    "            else:\n",
    "                condition = False\n",
    "        else:\n",
    "            print(\"Enter details again...\")"
   ]
  },
  {
   "cell_type": "code",
   "execution_count": null,
   "metadata": {},
   "outputs": [],
   "source": []
  }
 ],
 "metadata": {
  "kernelspec": {
   "display_name": "Python 3",
   "language": "python",
   "name": "python3"
  },
  "language_info": {
   "codemirror_mode": {
    "name": "ipython",
    "version": 3
   },
   "file_extension": ".py",
   "mimetype": "text/x-python",
   "name": "python",
   "nbconvert_exporter": "python",
   "pygments_lexer": "ipython3",
   "version": "3.8.5"
  }
 },
 "nbformat": 4,
 "nbformat_minor": 4
}
