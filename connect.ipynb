{
 "cells": [
  {
   "cell_type": "code",
   "execution_count": null,
   "metadata": {},
   "outputs": [],
   "source": [
    "import sqlite3"
   ]
  },
  {
   "cell_type": "code",
   "execution_count": null,
   "metadata": {},
   "outputs": [],
   "source": [
    "def connect(dbname):\n",
    "    conn = sqlite3.connect(dbname)\n",
    "    conn.execute(\" CREATE TABLE IF NOT EXISTS OYO_HOTELS (NAME TEXT, ADDRESS TEXT, PRICE INT, AMENITIES TEXT, RATING TEXT)\")\n",
    "    conn.close()"
   ]
  },
  {
   "cell_type": "code",
   "execution_count": null,
   "metadata": {},
   "outputs": [],
   "source": [
    "def insert_into_table(dbname, values):\n",
    "    conn = sqlite.connect(dbname)\n",
    "    insert_sql = \"INSERT INTO OYO_HOTELS(NAME, ADDRESS, PRICE, AMENITIES, RATING) VALUES(?, ?, ?, ?, ?)\"\n",
    "    conn.execute(insert_sql, values)\n",
    "    conn.commit()\n",
    "    conn.close()"
   ]
  },
  {
   "cell_type": "code",
   "execution_count": null,
   "metadata": {},
   "outputs": [],
   "source": [
    "def get_hotel_info(dnmae):\n",
    "    conn = sqlite3.connect(dbname)\n",
    "    \n",
    "    cur = conn.cursor()\n",
    "    cur.execute(\"SELECT * FROM OYO_HOTELS\")\n",
    "    table_data = cur.fetchall()\n",
    "    \n",
    "    for record in table_data:\n",
    "    print(record)"
   ]
  },
  {
   "cell_type": "code",
   "execution_count": null,
   "metadata": {},
   "outputs": [],
   "source": []
  }
 ],
 "metadata": {
  "kernelspec": {
   "display_name": "Python 3",
   "language": "python",
   "name": "python3"
  },
  "language_info": {
   "codemirror_mode": {
    "name": "ipython",
    "version": 3
   },
   "file_extension": ".py",
   "mimetype": "text/x-python",
   "name": "python",
   "nbconvert_exporter": "python",
   "pygments_lexer": "ipython3",
   "version": "3.8.5"
  }
 },
 "nbformat": 4,
 "nbformat_minor": 4
}
